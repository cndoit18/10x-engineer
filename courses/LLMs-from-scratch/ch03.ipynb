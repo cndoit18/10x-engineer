{
 "cells": [
  {
   "cell_type": "markdown",
   "id": "c321b6a7",
   "metadata": {},
   "source": []
  },
  {
   "cell_type": "code",
   "execution_count": null,
   "id": "a0c45f60",
   "metadata": {},
   "outputs": [],
   "source": [
    "import torch\n",
    "\n",
    "inputs = torch.tensor(\n",
    "    [\n",
    "        [0.43, 0.15, 0.89],  # Your\n",
    "        [0.55, 0.87, 0.66],  # journey\n",
    "        [0.57, 0.85, 0.64],  # starts\n",
    "        [0.22, 0.58, 0.33],  # with\n",
    "        [0.77, 0.25, 0.10],  # one\n",
    "        [0.05, 0.80, 0.55],  # step\n",
    "    ]\n",
    ")\n",
    "\n",
    "query = inputs[1]  # [0.55, 0.87, 0.66]\n",
    "attn_scores = torch.empty(inputs.shape[0])\n",
    "print(attn_scores.shape)  # 这里需要算出与query注意力\n",
    "for i, k in enumerate(inputs):\n",
    "    attn_scores[i] = torch.dot(k, query)\n",
    "attn_weights = torch.softmax(attn_scores, dim=-1)\n",
    "context_vec = torch.zeros(query.shape)\n",
    "for i, k in enumerate(inputs):\n",
    "    context_vec += attn_weights[i] * k\n",
    "print(context_vec)"
   ]
  },
  {
   "cell_type": "markdown",
   "id": "f5847a4d",
   "metadata": {},
   "source": [
    "将这个逻辑平铺到到每个token上"
   ]
  },
  {
   "cell_type": "code",
   "execution_count": null,
   "id": "139a2971",
   "metadata": {},
   "outputs": [],
   "source": [
    "attn_scores = torch.empty(inputs.shape[0], inputs.shape[0])\n",
    "attn_scores = inputs @ inputs.T\n",
    "print(attn_scores.shape)\n",
    "attn_weights = torch.softmax(attn_scores, dim=-1)\n",
    "context_vecs = attn_weights @ inputs\n",
    "print(context_vecs)\n",
    "\n",
    "# 我们将还没推算进去的token 也算了进去，所以我们需要一个mask来过滤掉这些toke\n",
    "mask = torch.triu(torch.ones(inputs.shape[0], inputs.shape[0]), diagonal=1)\n",
    "masked = attn_scores.masked_fill(mask.bool(), -torch.inf)\n",
    "attn_weights = torch.softmax(masked / inputs.shape[-1] ** 0.5, dim=-1)\n",
    "print(attn_weights)\n",
    "context_vecs = attn_weights @ inputs\n",
    "print(context_vecs)\n",
    "\n",
    "# 添加 Dropout\n",
    "dropout = torch.nn.Dropout(0.5)\n",
    "dropout(attn_weights)"
   ]
  },
  {
   "cell_type": "code",
   "execution_count": null,
   "id": "b04d721f",
   "metadata": {},
   "outputs": [],
   "source": [
    "import attention\n",
    "\n",
    "torch.manual_seed(789)\n",
    "d_in = inputs.shape[1]\n",
    "d_out = 2\n",
    "sa = attention.SelfAttention(d_in, d_out)\n",
    "print(\"SelfAttention output:\\n\", sa(inputs))"
   ]
  },
  {
   "cell_type": "code",
   "execution_count": null,
   "id": "5538ded0",
   "metadata": {},
   "outputs": [],
   "source": [
    "torch.manual_seed(789)\n",
    "batch = torch.stack((inputs, inputs), dim=0)\n",
    "context_length = batch.shape[1]\n",
    "csa = attention.CausalSelfAttention(d_in, d_out, context_length, 0.0)\n",
    "print(\"CausalSelfAttention output:\\n\", csa(batch))"
   ]
  },
  {
   "cell_type": "code",
   "execution_count": null,
   "id": "0cbfaaf2",
   "metadata": {},
   "outputs": [],
   "source": [
    "torch.manual_seed(789)\n",
    "batch = torch.stack((inputs, inputs), dim=0)\n",
    "context_length = batch.shape[1]\n",
    "mha = attention.MulitHeadAttention(d_in, d_out, context_length, 0.0, 2)\n",
    "print(\"MulitHeadAttention output:\\n\", mha(batch))"
   ]
  }
 ],
 "metadata": {
  "kernelspec": {
   "display_name": "Python 3 (ipykernel)",
   "language": "python",
   "name": "python3"
  },
  "language_info": {
   "codemirror_mode": {
    "name": "ipython",
    "version": 3
   },
   "file_extension": ".py",
   "mimetype": "text/x-python",
   "name": "python",
   "nbconvert_exporter": "python",
   "pygments_lexer": "ipython3",
   "version": "3.12.9"
  }
 },
 "nbformat": 4,
 "nbformat_minor": 5
}
