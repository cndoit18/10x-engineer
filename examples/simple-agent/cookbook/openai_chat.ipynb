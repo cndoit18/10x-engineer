{
 "cells": [
  {
   "cell_type": "code",
   "execution_count": null,
   "id": "3376c59a",
   "metadata": {
    "lines_to_next_cell": 2
   },
   "outputs": [],
   "source": [
    "from dotenv import load_dotenv\n",
    "from langchain.chat_models import init_chat_model\n",
    "from langchain_community.tools.tavily_search import TavilySearchResults\n",
    "from langchain_core.messages import HumanMessage\n",
    "from langgraph.prebuilt import create_react_agent\n",
    "from langgraph.checkpoint.memory import MemorySaver"
   ]
  },
  {
   "cell_type": "code",
   "execution_count": null,
   "id": "455899c6",
   "metadata": {},
   "outputs": [],
   "source": [
    "load_dotenv()\n",
    "# 需要导入 langchain-openai\n",
    "model = init_chat_model(\"gpt-4o\", model_provider=\"azure-openai\")"
   ]
  },
  {
   "cell_type": "code",
   "execution_count": null,
   "id": "0d5fe7bc",
   "metadata": {},
   "outputs": [],
   "source": [
    "model.invoke(\"hello\")"
   ]
  },
  {
   "cell_type": "code",
   "execution_count": null,
   "id": "ddfb1394",
   "metadata": {},
   "outputs": [],
   "source": [
    "search = TavilySearchResults()\n",
    "search.invoke(\"中国\")"
   ]
  },
  {
   "cell_type": "code",
   "execution_count": null,
   "id": "58c98837",
   "metadata": {
    "lines_to_next_cell": 2
   },
   "outputs": [],
   "source": [
    "agent_executor = create_react_agent(model, [search], checkpointer=MemorySaver())"
   ]
  },
  {
   "cell_type": "code",
   "execution_count": null,
   "id": "68c8b5d1",
   "metadata": {},
   "outputs": [],
   "source": [
    "for step in agent_executor.stream(\n",
    "    {\"messages\": HumanMessage(content=\"最近最热门的科技新闻\")},\n",
    "    stream_mode=\"values\",\n",
    "    config={\"configurable\": {\"thread_id\": \"thread_id\"}},\n",
    "):\n",
    "    step[\"messages\"][-1].pretty_print()"
   ]
  }
 ],
 "metadata": {
  "kernelspec": {
   "display_name": "Python 3 (ipykernel)",
   "language": "python",
   "name": "python3"
  },
  "language_info": {
   "codemirror_mode": {
    "name": "ipython",
    "version": 3
   },
   "file_extension": ".py",
   "mimetype": "text/x-python",
   "name": "python",
   "nbconvert_exporter": "python",
   "pygments_lexer": "ipython3",
   "version": "3.13.2"
  }
 },
 "nbformat": 4,
 "nbformat_minor": 5
}
